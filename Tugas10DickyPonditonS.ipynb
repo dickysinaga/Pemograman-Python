{
  "nbformat": 4,
  "nbformat_minor": 0,
  "metadata": {
    "colab": {
      "name": "Tugas10DickyPonditonS.ipynb",
      "provenance": [],
      "authorship_tag": "ABX9TyNDpE6BziIUIWI0HHBIz8f8",
      "include_colab_link": true
    },
    "kernelspec": {
      "name": "python3",
      "display_name": "Python 3"
    }
  },
  "cells": [
    {
      "cell_type": "markdown",
      "metadata": {
        "id": "view-in-github",
        "colab_type": "text"
      },
      "source": [
        "<a href=\"https://colab.research.google.com/github/dickysinaga/Pemograman-Python/blob/main/Tugas10DickyPonditonS.ipynb\" target=\"_parent\"><img src=\"https://colab.research.google.com/assets/colab-badge.svg\" alt=\"Open In Colab\"/></a>"
      ]
    },
    {
      "cell_type": "code",
      "metadata": {
        "colab": {
          "base_uri": "https://localhost:8080/"
        },
        "id": "-jfYnwHUU6W1",
        "outputId": "1c54f552-dca5-4064-c369-ae0eac6bafc4"
      },
      "source": [
        "from google.colab import drive\r\n",
        "drive.mount('/content/drive')"
      ],
      "execution_count": 1,
      "outputs": [
        {
          "output_type": "stream",
          "text": [
            "Mounted at /content/drive\n"
          ],
          "name": "stdout"
        }
      ]
    },
    {
      "cell_type": "code",
      "metadata": {
        "colab": {
          "base_uri": "https://localhost:8080/"
        },
        "id": "FzqnX2lOVEgC",
        "outputId": "ba173953-154e-4fd9-bef0-ef47f01ada76"
      },
      "source": [
        "cd /content/drive/MyDrive"
      ],
      "execution_count": 2,
      "outputs": [
        {
          "output_type": "stream",
          "text": [
            "/content/drive/MyDrive\n"
          ],
          "name": "stdout"
        }
      ]
    },
    {
      "cell_type": "code",
      "metadata": {
        "colab": {
          "base_uri": "https://localhost:8080/"
        },
        "id": "sLeMfg8PVKx6",
        "outputId": "747a6ea5-861d-4a17-cf73-3fcd938cae4c"
      },
      "source": [
        "ls "
      ],
      "execution_count": 3,
      "outputs": [
        {
          "output_type": "stream",
          "text": [
            " \u001b[0m\u001b[01;34m3scene\u001b[0m/             \u001b[01;34mGambar\u001b[0m/        \u001b[01;34mnnmodel_scene\u001b[0m/        \u001b[01;34m'Tugas Besar SKO'\u001b[0m/\n",
            "\u001b[01;34m'Colab Notebooks'\u001b[0m/   \u001b[01;34mmodel_scene\u001b[0m/  'Screenshot (11).png'\n"
          ],
          "name": "stdout"
        }
      ]
    },
    {
      "cell_type": "code",
      "metadata": {
        "id": "mBDNpzq2VOqA"
      },
      "source": [
        "# import the necessary packages\r\n",
        "\r\n",
        "from keras.models import Sequential\r\n",
        "from keras.layers.core import Activation\r\n",
        "from keras.layers.core import Flatten\r\n",
        "from keras.layers.core import Dense \r\n",
        "from keras.optimizers import Adam\r\n",
        "from sklearn.preprocessing import LabelBinarizer\r\n",
        "from sklearn.model_selection import train_test_split\r\n",
        "from sklearn.metrics import classification_report\r\n",
        "from PIL import Image\r\n",
        "from imutils import paths \r\n",
        "import numpy as np\r\n",
        "import os"
      ],
      "execution_count": 4,
      "outputs": []
    },
    {
      "cell_type": "code",
      "metadata": {
        "colab": {
          "base_uri": "https://localhost:8080/"
        },
        "id": "jjY_37tkVTNY",
        "outputId": "df06ef4f-6132-45a8-9242-6dfbaef47754"
      },
      "source": [
        "# grab all image paths in the input dataset directory, then initialize\r\n",
        "\r\n",
        "# our list of images and corresponding class labels \r\n",
        "print(\"[INFO] loading images...\")\r\n",
        "imagePaths = paths.list_images(\"3scene\")\r\n",
        "data = []\r\n",
        "labels = []"
      ],
      "execution_count": 5,
      "outputs": [
        {
          "output_type": "stream",
          "text": [
            "[INFO] loading images...\n"
          ],
          "name": "stdout"
        }
      ]
    },
    {
      "cell_type": "code",
      "metadata": {
        "id": "r0kCmKL_VWld"
      },
      "source": [
        "# loop over our input images\r\n",
        "\r\n",
        "for imagePath in imagePaths:\r\n",
        "  # load the input image from disk, resize it to 64x64 pixels, scale \r\n",
        "  # the pixel intensities to the range [0, 1], and then update our\r\n",
        "  # images list\r\n",
        "  image = Image.open(imagePath)\r\n",
        "  image = np.array(image.resize((64, 64))) / 255.0\r\n",
        "  data.append(image)\r\n",
        "\r\n",
        "  # extract the class label from the file path and update the\r\n",
        "  # labels list\r\n",
        "  label = imagePath.split(os.path. sep)[-2] \r\n",
        "  labels.append(label)"
      ],
      "execution_count": 6,
      "outputs": []
    },
    {
      "cell_type": "code",
      "metadata": {
        "colab": {
          "base_uri": "https://localhost:8080/"
        },
        "id": "LDVX3seXXGtc",
        "outputId": "13ff5109-bb91-4b66-feb7-1f215e34cc05"
      },
      "source": [
        "print(labels)"
      ],
      "execution_count": 7,
      "outputs": [
        {
          "output_type": "stream",
          "text": [
            "['coast', 'coast', 'coast', 'coast', 'coast', 'coast', 'coast', 'coast', 'coast', 'coast', 'coast', 'coast', 'coast', 'coast', 'coast', 'coast', 'coast', 'coast', 'coast', 'coast', 'coast', 'coast', 'coast', 'coast', 'coast', 'coast', 'coast', 'coast', 'coast', 'coast', 'coast', 'coast', 'coast', 'coast', 'coast', 'coast', 'coast', 'coast', 'coast', 'coast', 'coast', 'coast', 'coast', 'coast', 'coast', 'coast', 'coast', 'coast', 'coast', 'coast', 'coast', 'coast', 'coast', 'coast', 'coast', 'coast', 'coast', 'coast', 'coast', 'coast', 'coast', 'coast', 'coast', 'coast', 'coast', 'coast', 'coast', 'coast', 'coast', 'coast', 'coast', 'coast', 'coast', 'coast', 'coast', 'coast', 'coast', 'coast', 'coast', 'coast', 'coast', 'coast', 'coast', 'coast', 'coast', 'coast', 'coast', 'coast', 'coast', 'coast', 'coast', 'coast', 'coast', 'coast', 'coast', 'coast', 'coast', 'coast', 'coast', 'coast', 'coast', 'coast', 'coast', 'coast', 'coast', 'coast', 'coast', 'coast', 'coast', 'coast', 'coast', 'coast', 'coast', 'coast', 'coast', 'coast', 'coast', 'coast', 'coast', 'coast', 'coast', 'coast', 'coast', 'coast', 'coast', 'coast', 'coast', 'coast', 'coast', 'coast', 'coast', 'coast', 'coast', 'coast', 'coast', 'coast', 'coast', 'coast', 'coast', 'coast', 'coast', 'coast', 'coast', 'coast', 'coast', 'coast', 'coast', 'coast', 'coast', 'coast', 'coast', 'coast', 'coast', 'coast', 'coast', 'coast', 'coast', 'coast', 'coast', 'coast', 'coast', 'coast', 'coast', 'coast', 'coast', 'coast', 'coast', 'coast', 'coast', 'coast', 'coast', 'coast', 'coast', 'coast', 'coast', 'coast', 'coast', 'coast', 'coast', 'coast', 'coast', 'coast', 'coast', 'coast', 'coast', 'coast', 'coast', 'coast', 'coast', 'coast', 'coast', 'coast', 'coast', 'coast', 'coast', 'coast', 'coast', 'coast', 'coast', 'coast', 'coast', 'coast', 'coast', 'coast', 'coast', 'coast', 'coast', 'coast', 'coast', 'coast', 'coast', 'coast', 'coast', 'coast', 'coast', 'coast', 'coast', 'coast', 'coast', 'coast', 'coast', 'coast', 'coast', 'coast', 'coast', 'coast', 'coast', 'coast', 'coast', 'coast', 'coast', 'coast', 'coast', 'coast', 'coast', 'coast', 'coast', 'coast', 'coast', 'coast', 'coast', 'coast', 'coast', 'coast', 'coast', 'coast', 'coast', 'coast', 'coast', 'coast', 'coast', 'coast', 'coast', 'coast', 'coast', 'coast', 'coast', 'coast', 'coast', 'coast', 'coast', 'coast', 'coast', 'coast', 'coast', 'coast', 'coast', 'coast', 'coast', 'coast', 'coast', 'coast', 'coast', 'coast', 'coast', 'coast', 'coast', 'coast', 'coast', 'coast', 'coast', 'coast', 'coast', 'coast', 'coast', 'coast', 'coast', 'coast', 'coast', 'coast', 'coast', 'coast', 'coast', 'coast', 'coast', 'coast', 'coast', 'coast', 'coast', 'coast', 'coast', 'coast', 'coast', 'coast', 'coast', 'coast', 'coast', 'coast', 'coast', 'coast', 'coast', 'coast', 'coast', 'coast', 'coast', 'coast', 'coast', 'coast', 'coast', 'coast', 'coast', 'coast', 'coast', 'coast', 'coast', 'coast', 'coast', 'coast', 'coast', 'coast', 'coast', 'coast', 'coast', 'coast', 'coast', 'coast', 'coast', 'coast', 'coast', 'coast', 'coast', 'coast', 'coast', 'coast', 'coast', 'coast', 'coast', 'coast', 'coast', 'coast', 'coast', 'coast', 'coast', 'coast', 'coast', 'coast', 'coast', 'coast', 'coast', 'coast', 'highway', 'highway', 'highway', 'highway', 'highway', 'highway', 'highway', 'highway', 'highway', 'highway', 'highway', 'highway', 'highway', 'highway', 'highway', 'highway', 'highway', 'highway', 'highway', 'highway', 'highway', 'highway', 'highway', 'highway', 'highway', 'highway', 'highway', 'highway', 'highway', 'highway', 'highway', 'highway', 'highway', 'highway', 'highway', 'highway', 'highway', 'highway', 'highway', 'highway', 'highway', 'highway', 'highway', 'highway', 'highway', 'highway', 'highway', 'highway', 'highway', 'highway', 'highway', 'highway', 'highway', 'highway', 'highway', 'highway', 'highway', 'highway', 'highway', 'highway', 'highway', 'highway', 'highway', 'highway', 'highway', 'highway', 'highway', 'highway', 'highway', 'highway', 'highway', 'highway', 'highway', 'highway', 'highway', 'highway', 'highway', 'highway', 'highway', 'highway', 'highway', 'highway', 'highway', 'highway', 'highway', 'highway', 'highway', 'highway', 'highway', 'highway', 'highway', 'highway', 'highway', 'highway', 'highway', 'highway', 'highway', 'highway', 'highway', 'highway', 'highway', 'highway', 'highway', 'highway', 'highway', 'highway', 'highway', 'highway', 'highway', 'highway', 'highway', 'highway', 'highway', 'highway', 'highway', 'highway', 'highway', 'highway', 'highway', 'highway', 'highway', 'highway', 'highway', 'highway', 'highway', 'highway', 'highway', 'highway', 'highway', 'highway', 'highway', 'highway', 'highway', 'highway', 'highway', 'highway', 'highway', 'highway', 'highway', 'highway', 'highway', 'highway', 'highway', 'highway', 'highway', 'highway', 'highway', 'highway', 'highway', 'highway', 'highway', 'highway', 'highway', 'highway', 'highway', 'highway', 'highway', 'highway', 'highway', 'highway', 'highway', 'highway', 'highway', 'highway', 'highway', 'highway', 'highway', 'highway', 'highway', 'highway', 'highway', 'highway', 'highway', 'highway', 'highway', 'highway', 'highway', 'highway', 'highway', 'highway', 'highway', 'highway', 'highway', 'highway', 'highway', 'highway', 'highway', 'highway', 'highway', 'highway', 'highway', 'highway', 'highway', 'highway', 'highway', 'highway', 'highway', 'highway', 'highway', 'highway', 'highway', 'highway', 'highway', 'highway', 'highway', 'highway', 'highway', 'highway', 'highway', 'highway', 'highway', 'highway', 'highway', 'highway', 'highway', 'highway', 'highway', 'highway', 'highway', 'highway', 'highway', 'highway', 'highway', 'highway', 'highway', 'highway', 'highway', 'highway', 'highway', 'highway', 'highway', 'highway', 'highway', 'highway', 'highway', 'highway', 'highway', 'highway', 'highway', 'highway', 'highway', 'highway', 'highway', 'highway', 'highway', 'highway', 'highway', 'highway', 'highway', 'highway', 'highway', 'highway', 'highway', 'highway', 'highway', 'highway', 'highway', 'highway', 'highway', 'highway', 'forest', 'forest', 'forest', 'forest', 'forest', 'forest', 'forest', 'forest', 'forest', 'forest', 'forest', 'forest', 'forest', 'forest', 'forest', 'forest', 'forest', 'forest', 'forest', 'forest', 'forest', 'forest', 'forest', 'forest', 'forest', 'forest', 'forest', 'forest', 'forest', 'forest', 'forest', 'forest', 'forest', 'forest', 'forest', 'forest', 'forest', 'forest', 'forest', 'forest', 'forest', 'forest', 'forest', 'forest', 'forest', 'forest', 'forest', 'forest', 'forest', 'forest', 'forest', 'forest', 'forest', 'forest', 'forest', 'forest', 'forest', 'forest', 'forest', 'forest', 'forest', 'forest', 'forest', 'forest', 'forest', 'forest', 'forest', 'forest', 'forest', 'forest', 'forest', 'forest', 'forest', 'forest', 'forest', 'forest', 'forest', 'forest', 'forest', 'forest', 'forest', 'forest', 'forest', 'forest', 'forest', 'forest', 'forest', 'forest', 'forest', 'forest', 'forest', 'forest', 'forest', 'forest', 'forest', 'forest', 'forest', 'forest', 'forest', 'forest', 'forest', 'forest', 'forest', 'forest', 'forest', 'forest', 'forest', 'forest', 'forest', 'forest', 'forest', 'forest', 'forest', 'forest', 'forest', 'forest', 'forest', 'forest', 'forest', 'forest', 'forest', 'forest', 'forest', 'forest', 'forest', 'forest', 'forest', 'forest', 'forest', 'forest', 'forest', 'forest', 'forest', 'forest', 'forest', 'forest', 'forest', 'forest', 'forest', 'forest', 'forest', 'forest', 'forest', 'forest', 'forest', 'forest', 'forest', 'forest', 'forest', 'forest', 'forest', 'forest', 'forest', 'forest', 'forest', 'forest', 'forest', 'forest', 'forest', 'forest', 'forest', 'forest', 'forest', 'forest', 'forest', 'forest', 'forest', 'forest', 'forest', 'forest', 'forest', 'forest', 'forest', 'forest', 'forest', 'forest', 'forest', 'forest', 'forest', 'forest', 'forest', 'forest', 'forest', 'forest', 'forest', 'forest', 'forest', 'forest', 'forest', 'forest', 'forest', 'forest', 'forest', 'forest', 'forest', 'forest', 'forest', 'forest', 'forest', 'forest', 'forest', 'forest', 'forest', 'forest', 'forest', 'forest', 'forest', 'forest', 'forest', 'forest', 'forest', 'forest', 'forest', 'forest', 'forest', 'forest', 'forest', 'forest', 'forest', 'forest', 'forest', 'forest', 'forest', 'forest', 'forest', 'forest', 'forest', 'forest', 'forest', 'forest', 'forest', 'forest', 'forest', 'forest', 'forest', 'forest', 'forest', 'forest', 'forest', 'forest', 'forest', 'forest', 'forest', 'forest', 'forest', 'forest', 'forest', 'forest', 'forest', 'forest', 'forest', 'forest', 'forest', 'forest', 'forest', 'forest', 'forest', 'forest', 'forest', 'forest', 'forest', 'forest', 'forest', 'forest', 'forest', 'forest', 'forest', 'forest', 'forest', 'forest', 'forest', 'forest', 'forest', 'forest', 'forest', 'forest', 'forest', 'forest', 'forest', 'forest', 'forest', 'forest', 'forest', 'forest', 'forest', 'forest', 'forest', 'forest', 'forest', 'forest', 'forest', 'forest', 'forest', 'forest', 'forest', 'forest', 'forest', 'forest', 'forest', 'forest', 'forest', 'forest', 'forest', 'forest', 'forest', 'forest', 'forest', 'forest', 'forest', 'forest', 'forest', 'forest', 'forest', 'forest', 'forest', 'forest', 'forest', 'forest', 'forest', 'forest', 'forest', 'forest', 'forest', 'forest', 'forest', 'forest', 'forest', 'forest']\n"
          ],
          "name": "stdout"
        }
      ]
    },
    {
      "cell_type": "code",
      "metadata": {
        "id": "ko2iO9M6XLYN"
      },
      "source": [
        "# encode the labels, converting them from strings to integers \r\n",
        "lb = LabelBinarizer()\r\n",
        "labels = lb.fit_transform(labels)"
      ],
      "execution_count": 8,
      "outputs": []
    },
    {
      "cell_type": "code",
      "metadata": {
        "colab": {
          "base_uri": "https://localhost:8080/"
        },
        "id": "-OW3MM1GXPPL",
        "outputId": "14d39840-9ec2-4942-b419-10da55197db6"
      },
      "source": [
        "print(labels)"
      ],
      "execution_count": 9,
      "outputs": [
        {
          "output_type": "stream",
          "text": [
            "[[1 0 0]\n",
            " [1 0 0]\n",
            " [1 0 0]\n",
            " ...\n",
            " [0 1 0]\n",
            " [0 1 0]\n",
            " [0 1 0]]\n"
          ],
          "name": "stdout"
        }
      ]
    },
    {
      "cell_type": "code",
      "metadata": {
        "colab": {
          "base_uri": "https://localhost:8080/"
        },
        "id": "iAYzAE5CXSqN",
        "outputId": "6e90a9b8-7da2-4ef7-e66a-b213ec50b3fd"
      },
      "source": [
        "# perform a troining and testing split, using 75% of the data for \r\n",
        "# training and 25% for evaluation\r\n",
        "\r\n",
        "(trainX, testX, trainY, testY) = train_test_split(np.array(data), np.array(labels), test_size=0.25, shuffle=True)\r\n",
        "print(trainX.shape)\r\n",
        "print(testX.shape)"
      ],
      "execution_count": 10,
      "outputs": [
        {
          "output_type": "stream",
          "text": [
            "(711, 64, 64, 3)\n",
            "(237, 64, 64, 3)\n"
          ],
          "name": "stdout"
        }
      ]
    },
    {
      "cell_type": "code",
      "metadata": {
        "id": "5ngdBsqXXYwM"
      },
      "source": [
        "from keras.models import Sequential\r\n",
        "from keras.layers.core import Flatten\r\n",
        "from keras.layers.core import Dense\r\n",
        "\r\n",
        "model = Sequential (\r\n",
        "    [\r\n",
        "        Flatten(input_shape=(64*64*3,)),\r\n",
        "        Dense(100, activation=\"relu\", name=\"layer1\"),\r\n",
        "        Dense(16, activation=\"relu\", name=\"layer2\"),\r\n",
        "        Dense(16, activation=\"relu\", name=\"layer3\"),\r\n",
        "        Dense(3, activation = \"softmax\", name=\"layer4\"),\r\n",
        "    ]\r\n",
        ")"
      ],
      "execution_count": 11,
      "outputs": []
    },
    {
      "cell_type": "code",
      "metadata": {
        "colab": {
          "base_uri": "https://localhost:8080/"
        },
        "id": "EU0MvML7XaZo",
        "outputId": "454fa786-0ca3-4c82-b39e-ba3e62796c74"
      },
      "source": [
        "model.summary()"
      ],
      "execution_count": 12,
      "outputs": [
        {
          "output_type": "stream",
          "text": [
            "Model: \"sequential\"\n",
            "_________________________________________________________________\n",
            "Layer (type)                 Output Shape              Param #   \n",
            "=================================================================\n",
            "flatten (Flatten)            (None, 12288)             0         \n",
            "_________________________________________________________________\n",
            "layer1 (Dense)               (None, 100)               1228900   \n",
            "_________________________________________________________________\n",
            "layer2 (Dense)               (None, 16)                1616      \n",
            "_________________________________________________________________\n",
            "layer3 (Dense)               (None, 16)                272       \n",
            "_________________________________________________________________\n",
            "layer4 (Dense)               (None, 3)                 51        \n",
            "=================================================================\n",
            "Total params: 1,230,839\n",
            "Trainable params: 1,230,839\n",
            "Non-trainable params: 0\n",
            "_________________________________________________________________\n"
          ],
          "name": "stdout"
        }
      ]
    },
    {
      "cell_type": "code",
      "metadata": {
        "colab": {
          "base_uri": "https://localhost:8080/"
        },
        "id": "fCA37bmxXft6",
        "outputId": "a3d6e0bf-2571-4179-9a8a-18270e6e7ecd"
      },
      "source": [
        "# train the model using the Adam optimizer\r\n",
        "print (\"[INFO] training network...\") \r\n",
        "opt = Adam(lr=1e-3, decay=1e-3 / 50)\r\n",
        "model.compile(loss=\"categorical_crossentropy\", optimizer=opt, \r\n",
        "  metrics=[\"accuracy\"])\r\n",
        "\r\n",
        "H = model.fit(trainX, trainY, validation_data=(testX, testY), epochs=25, batch_size=32)"
      ],
      "execution_count": 13,
      "outputs": [
        {
          "output_type": "stream",
          "text": [
            "[INFO] training network...\n",
            "Epoch 1/25\n",
            "WARNING:tensorflow:Model was constructed with shape (None, 12288) for input KerasTensor(type_spec=TensorSpec(shape=(None, 12288), dtype=tf.float32, name='flatten_input'), name='flatten_input', description=\"created by layer 'flatten_input'\"), but it was called on an input with incompatible shape (None, 64, 64, 3).\n",
            "WARNING:tensorflow:Model was constructed with shape (None, 12288) for input KerasTensor(type_spec=TensorSpec(shape=(None, 12288), dtype=tf.float32, name='flatten_input'), name='flatten_input', description=\"created by layer 'flatten_input'\"), but it was called on an input with incompatible shape (None, 64, 64, 3).\n",
            "18/23 [======================>.......] - ETA: 0s - loss: 1.2277 - accuracy: 0.3324WARNING:tensorflow:Model was constructed with shape (None, 12288) for input KerasTensor(type_spec=TensorSpec(shape=(None, 12288), dtype=tf.float32, name='flatten_input'), name='flatten_input', description=\"created by layer 'flatten_input'\"), but it was called on an input with incompatible shape (None, 64, 64, 3).\n",
            "23/23 [==============================] - 1s 35ms/step - loss: 1.2095 - accuracy: 0.3340 - val_loss: 1.0974 - val_accuracy: 0.3755\n",
            "Epoch 2/25\n",
            "23/23 [==============================] - 0s 12ms/step - loss: 1.0973 - accuracy: 0.3897 - val_loss: 1.0958 - val_accuracy: 0.3755\n",
            "Epoch 3/25\n",
            "23/23 [==============================] - 0s 12ms/step - loss: 1.0966 - accuracy: 0.3660 - val_loss: 1.0943 - val_accuracy: 0.3755\n",
            "Epoch 4/25\n",
            "23/23 [==============================] - 0s 12ms/step - loss: 1.0932 - accuracy: 0.4018 - val_loss: 1.0929 - val_accuracy: 0.3755\n",
            "Epoch 5/25\n",
            "23/23 [==============================] - 0s 13ms/step - loss: 1.0949 - accuracy: 0.3849 - val_loss: 1.0925 - val_accuracy: 0.3755\n",
            "Epoch 6/25\n",
            "23/23 [==============================] - 0s 12ms/step - loss: 1.0912 - accuracy: 0.4107 - val_loss: 1.0914 - val_accuracy: 0.3755\n",
            "Epoch 7/25\n",
            "23/23 [==============================] - 0s 13ms/step - loss: 1.0917 - accuracy: 0.3945 - val_loss: 1.0906 - val_accuracy: 0.3755\n",
            "Epoch 8/25\n",
            "23/23 [==============================] - 0s 12ms/step - loss: 1.0894 - accuracy: 0.4117 - val_loss: 1.0899 - val_accuracy: 0.3755\n",
            "Epoch 9/25\n",
            "23/23 [==============================] - 0s 12ms/step - loss: 1.0929 - accuracy: 0.3672 - val_loss: 1.0892 - val_accuracy: 0.3755\n",
            "Epoch 10/25\n",
            "23/23 [==============================] - 0s 12ms/step - loss: 1.0971 - accuracy: 0.3582 - val_loss: 1.0888 - val_accuracy: 0.3755\n",
            "Epoch 11/25\n",
            "23/23 [==============================] - 0s 13ms/step - loss: 1.0923 - accuracy: 0.3881 - val_loss: 1.0884 - val_accuracy: 0.3755\n",
            "Epoch 12/25\n",
            "23/23 [==============================] - 0s 12ms/step - loss: 1.0918 - accuracy: 0.3739 - val_loss: 1.0878 - val_accuracy: 0.3755\n",
            "Epoch 13/25\n",
            "23/23 [==============================] - 0s 18ms/step - loss: 1.0852 - accuracy: 0.4056 - val_loss: 1.0875 - val_accuracy: 0.3755\n",
            "Epoch 14/25\n",
            "23/23 [==============================] - 0s 14ms/step - loss: 1.0934 - accuracy: 0.3667 - val_loss: 1.0877 - val_accuracy: 0.3755\n",
            "Epoch 15/25\n",
            "23/23 [==============================] - 0s 12ms/step - loss: 1.0827 - accuracy: 0.4234 - val_loss: 1.0875 - val_accuracy: 0.3755\n",
            "Epoch 16/25\n",
            "23/23 [==============================] - 0s 12ms/step - loss: 1.0961 - accuracy: 0.3650 - val_loss: 1.0876 - val_accuracy: 0.3755\n",
            "Epoch 17/25\n",
            "23/23 [==============================] - 0s 13ms/step - loss: 1.0956 - accuracy: 0.3716 - val_loss: 1.0875 - val_accuracy: 0.3755\n",
            "Epoch 18/25\n",
            "23/23 [==============================] - 0s 13ms/step - loss: 1.0877 - accuracy: 0.3860 - val_loss: 1.0872 - val_accuracy: 0.3755\n",
            "Epoch 19/25\n",
            "23/23 [==============================] - 0s 13ms/step - loss: 1.0945 - accuracy: 0.3732 - val_loss: 1.0871 - val_accuracy: 0.3755\n",
            "Epoch 20/25\n",
            "23/23 [==============================] - 0s 13ms/step - loss: 1.0925 - accuracy: 0.3861 - val_loss: 1.0870 - val_accuracy: 0.3755\n",
            "Epoch 21/25\n",
            "23/23 [==============================] - 0s 12ms/step - loss: 1.0915 - accuracy: 0.3775 - val_loss: 1.0870 - val_accuracy: 0.3755\n",
            "Epoch 22/25\n",
            "23/23 [==============================] - 0s 14ms/step - loss: 1.0882 - accuracy: 0.3965 - val_loss: 1.0870 - val_accuracy: 0.3755\n",
            "Epoch 23/25\n",
            "23/23 [==============================] - 0s 12ms/step - loss: 1.0881 - accuracy: 0.4014 - val_loss: 1.0868 - val_accuracy: 0.3755\n",
            "Epoch 24/25\n",
            "23/23 [==============================] - 0s 13ms/step - loss: 1.0937 - accuracy: 0.3588 - val_loss: 1.0868 - val_accuracy: 0.3755\n",
            "Epoch 25/25\n",
            "23/23 [==============================] - 0s 12ms/step - loss: 1.0894 - accuracy: 0.3814 - val_loss: 1.0871 - val_accuracy: 0.3755\n"
          ],
          "name": "stdout"
        }
      ]
    },
    {
      "cell_type": "code",
      "metadata": {
        "colab": {
          "base_uri": "https://localhost:8080/",
          "height": 590
        },
        "id": "2vONdw8pXlWy",
        "outputId": "7337620d-0f75-405c-85c7-fe094442bb4b"
      },
      "source": [
        "import matplotlib.pyplot as plt\r\n",
        "\r\n",
        "print(H.history.keys()) \r\n",
        "# summarize history for accuracy\r\n",
        "plt.plot(H.history['accuracy']) \r\n",
        "plt.plot(H.history['val_accuracy'])\r\n",
        "plt.title('model accuracy') \r\n",
        "plt.ylabel('accuracy')\r\n",
        "plt.xlabel('epoch') \r\n",
        "plt.legend(['train', 'test'], loc='upper left')\r\n",
        "plt.show()\r\n",
        "# summarize history for loss \r\n",
        "plt.plot(H.history['loss']) \r\n",
        "plt.plot(H.history['val_loss'])\r\n",
        "plt.title('model loss')\r\n",
        "plt.ylabel('loss')\r\n",
        "plt.xlabel('epoch')\r\n",
        "plt.legend(['train','test'], loc='upper left')\r\n",
        "plt.show()"
      ],
      "execution_count": 14,
      "outputs": [
        {
          "output_type": "stream",
          "text": [
            "dict_keys(['loss', 'accuracy', 'val_loss', 'val_accuracy'])\n"
          ],
          "name": "stdout"
        },
        {
          "output_type": "display_data",
          "data": {
            "image/png": "[encoded data removed]",
            "text/plain": [
              "<Figure size 432x288 with 1 Axes>"
            ]
          },
          "metadata": {
            "tags": [],
            "needs_background": "light"
          }
        },
        {
          "output_type": "display_data",
          "data": {
            "image/png": "[encoded data removed]",
            "text/plain": [
              "<Figure size 432x288 with 1 Axes>"
            ]
          },
          "metadata": {
            "tags": [],
            "needs_background": "light"
          }
        }
      ]
    },
    {
      "cell_type": "code",
      "metadata": {
        "colab": {
          "base_uri": "https://localhost:8080/"
        },
        "id": "It8OT40zXuFy",
        "outputId": "16f8d49b-d58e-4756-d4ae-6fb55ef09eaf"
      },
      "source": [
        "# evaluate the network\r\n",
        "print(\"[INFO] evaluating network...\") \r\n",
        "predictions = model.predict(testX, batch_size=32) \r\n",
        "print(classification_report(testY.argmax (axis=1),\r\n",
        "  predictions.argmax(axis=1), target_names=lb.classes_))"
      ],
      "execution_count": 15,
      "outputs": [
        {
          "output_type": "stream",
          "text": [
            "[INFO] evaluating network...\n",
            "WARNING:tensorflow:Model was constructed with shape (None, 12288) for input KerasTensor(type_spec=TensorSpec(shape=(None, 12288), dtype=tf.float32, name='flatten_input'), name='flatten_input', description=\"created by layer 'flatten_input'\"), but it was called on an input with incompatible shape (None, 64, 64, 3).\n",
            "              precision    recall  f1-score   support\n",
            "\n",
            "       coast       0.38      1.00      0.55        89\n",
            "      forest       0.00      0.00      0.00        88\n",
            "     highway       0.00      0.00      0.00        60\n",
            "\n",
            "    accuracy                           0.38       237\n",
            "   macro avg       0.13      0.33      0.18       237\n",
            "weighted avg       0.14      0.38      0.21       237\n",
            "\n"
          ],
          "name": "stdout"
        },
        {
          "output_type": "stream",
          "text": [
            "/usr/local/lib/python3.6/dist-packages/sklearn/metrics/_classification.py:1272: UndefinedMetricWarning: Precision and F-score are ill-defined and being set to 0.0 in labels with no predicted samples. Use `zero_division` parameter to control this behavior.\n",
            "  _warn_prf(average, modifier, msg_start, len(result))\n"
          ],
          "name": "stderr"
        }
      ]
    },
    {
      "cell_type": "code",
      "metadata": {
        "colab": {
          "base_uri": "https://localhost:8080/"
        },
        "id": "Eefw3iRWXz2X",
        "outputId": "6a3f6295-688b-42f3-a849-1ad5a404e371"
      },
      "source": [
        "model.save('model_scene')"
      ],
      "execution_count": 16,
      "outputs": [
        {
          "output_type": "stream",
          "text": [
            "INFO:tensorflow:Assets written to: model_scene/assets\n"
          ],
          "name": "stdout"
        }
      ]
    },
    {
      "cell_type": "code",
      "metadata": {
        "id": "xS19zvsJX1kC"
      },
      "source": [
        "import cv2\r\n",
        "import matplotlib.pyplot as plt\r\n",
        "image1='Screenshot (11).png'"
      ],
      "execution_count": 17,
      "outputs": []
    },
    {
      "cell_type": "code",
      "metadata": {
        "colab": {
          "base_uri": "https://localhost:8080/",
          "height": 252
        },
        "id": "PA0pZ9z7X6zh",
        "outputId": "b8c9e562-24a4-40a5-e074-032e099595b3"
      },
      "source": [
        "img_array = cv2.imread(image1)\r\n",
        "plt.imshow(img_array)\r\n",
        "plt.show()"
      ],
      "execution_count": 18,
      "outputs": [
        {
          "output_type": "display_data",
          "data": {
            "image/png": "[encoded data removed]",
            "text/plain": [
              "<Figure size 432x288 with 1 Axes>"
            ]
          },
          "metadata": {
            "tags": [],
            "needs_background": "light"
          }
        }
      ]
    },
    {
      "cell_type": "code",
      "metadata": {
        "colab": {
          "base_uri": "https://localhost:8080/"
        },
        "id": "rRRr-QjWX-az",
        "outputId": "a94fd208-fd4f-4f15-95a2-848abdc399b0"
      },
      "source": [
        "image_testing = Image.open ('Screenshot (11).png')\r\n",
        "image_testing = np.array(image_testing.resize((64,64))) / 255.0\r\n",
        "image_testing.shape"
      ],
      "execution_count": 19,
      "outputs": [
        {
          "output_type": "execute_result",
          "data": {
            "text/plain": [
              "(64, 64, 4)"
            ]
          },
          "metadata": {
            "tags": []
          },
          "execution_count": 19
        }
      ]
    },
    {
      "cell_type": "code",
      "metadata": {
        "colab": {
          "base_uri": "https://localhost:8080/"
        },
        "id": "pkeXKer8YB_j",
        "outputId": "2520afbe-23ab-4926-dea6-ac5891d60fee"
      },
      "source": [
        "image_testing = np.expand_dims(image_testing, axis=0)\r\n",
        "print(image_testing.shape)"
      ],
      "execution_count": 20,
      "outputs": [
        {
          "output_type": "stream",
          "text": [
            "(1, 64, 64, 4)\n"
          ],
          "name": "stdout"
        }
      ]
    }
  ]
}